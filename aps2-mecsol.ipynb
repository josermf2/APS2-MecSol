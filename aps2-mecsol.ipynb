{
 "cells": [
  {
   "cell_type": "markdown",
   "id": "a484648e",
   "metadata": {},
   "source": [
    "# APS 2 - Aplicação do Método de Diferenças Finitas"
   ]
  },
  {
   "cell_type": "markdown",
   "id": "18845b34",
   "metadata": {},
   "source": [
    "#### OBJETIVO GERAL\n",
    "\n",
    "Desenvolver uma função, usando o Python, para avaliar o comportamento da temperatura de um dissipador de calor (aleta) aplicando técnicas numéricas de simulação. "
   ]
  },
  {
   "cell_type": "markdown",
   "id": "1579d0b8",
   "metadata": {},
   "source": [
    "### Bibliotecas"
   ]
  },
  {
   "cell_type": "code",
   "execution_count": 1,
   "id": "bf1b3640",
   "metadata": {},
   "outputs": [],
   "source": [
    "import matplotlib.pyplot as plt\n",
    "import numpy as np\n",
    "import math"
   ]
  },
  {
   "cell_type": "markdown",
   "id": "817b849e",
   "metadata": {},
   "source": [
    "### 1. Método das diferenças finitas\n",
    "\n",
    "Aplique os conceitos do método das diferenças finitas na equação diferencial do problema para definir uma equação de diferença algébrica associada aos nós da aleta. Considere para a segunda derivada da temperatura no espaço uma equação de diferença finita centrada e para a primeira derivada no tempo da temperatura uma equação de diferença progressiva. Apresente o desenvolvimento das equações. "
   ]
  },
  {
   "cell_type": "markdown",
   "id": "81bdaa54",
   "metadata": {},
   "source": [
    "Inicialmente, temos que:"
   ]
  },
  {
   "cell_type": "markdown",
   "id": "41d4d434",
   "metadata": {},
   "source": [
    "$$\\dfrac{d^2T}{dx^2} - \\dfrac{hP}{kA_{tr}}(T - T_\\infty) = \\dfrac{1}{\\alpha}\\cdot\\dfrac{dT}{dt}$$"
   ]
  },
  {
   "cell_type": "markdown",
   "id": "e66ff21c",
   "metadata": {},
   "source": [
    "Assim, sabemos que:"
   ]
  },
  {
   "cell_type": "markdown",
   "id": "6bcd1aba",
   "metadata": {},
   "source": [
    "$$\\dfrac{d^2T}{dx^2} = \\dfrac{T^{l}_{i+1} - 2T^{l}_{i} + T^{l}_{i-1}}{\\Delta x^2}$$"
   ]
  },
  {
   "cell_type": "markdown",
   "id": "dd28671b",
   "metadata": {},
   "source": [
    "$$\\dfrac{dT}{dt} = \\dfrac{T^{l+1}_{i} - T^{l}_{i}}{\\Delta t}$$"
   ]
  },
  {
   "cell_type": "markdown",
   "id": "4252ca57",
   "metadata": {},
   "source": [
    "Considerando que:"
   ]
  },
  {
   "cell_type": "markdown",
   "id": "22e7bf64",
   "metadata": {},
   "source": [
    "$$c = \\dfrac{hP}{kA_{tr}}$$"
   ]
  },
  {
   "cell_type": "markdown",
   "id": "09de7915",
   "metadata": {},
   "source": [
    "Temos que:"
   ]
  },
  {
   "cell_type": "markdown",
   "id": "0564e425",
   "metadata": {},
   "source": [
    "$$T^{l+1}_{i} = T^{l}_{i} + \\dfrac{\\alpha\\Delta t}{\\Delta x^2} \\cdot (T^{l}_{i+1} - 2T^{l}_{i} + T^{l}_{i-1}) - \\alpha\\Delta tc\\cdot(T^{l}_{i} - T_{\\infty})$$"
   ]
  },
  {
   "cell_type": "markdown",
   "id": "da03d066",
   "metadata": {},
   "source": [
    "### 2. Função"
   ]
  },
  {
   "cell_type": "code",
   "execution_count": 2,
   "id": "eb8d1e65",
   "metadata": {},
   "outputs": [
    {
     "data": {
      "image/png": "[encoded data removed]",
      "text/plain": [
       "<Figure size 432x288 with 1 Axes>"
      ]
     },
     "metadata": {
      "needs_background": "light"
     },
     "output_type": "display_data"
    },
    {
     "data": {
      "image/png": "[encoded data removed]",
      "text/plain": [
       "<Figure size 432x288 with 1 Axes>"
      ]
     },
     "metadata": {
      "needs_background": "light"
     },
     "output_type": "display_data"
    }
   ],
   "source": [
    "# parâmetros:\n",
    "\n",
    "# p - densidade do material\n",
    "# cp - calor específico\n",
    "# k - condutividade térmica\n",
    "# h - coeficiente de transferência por convecção\n",
    "# Tf - temperatura do fluido\n",
    "# Tb - temperatura da base\n",
    "# r - raio\n",
    "# L - comprimento\n",
    "# dx - delta X\n",
    "# tt - tempo total\n",
    "def CTA(p, cp, k, h, Tf, Tb, r, L, dx, tt):\n",
    "    # Comportamento numérico\n",
    "    perimetro = 2*math.pi*r\n",
    "    atr = math.pi*(r**2)\n",
    "    c = (h*perimetro)/(k*atr)\n",
    "    alpha = k/(p*cp)\n",
    "    \n",
    "    tol = 1*10e-10\n",
    "    \n",
    "    # Delta T\n",
    "    delta_t = (dx**2/(alpha*(c*dx**2 + 2)))*0.99\n",
    "    \n",
    "    # Constante\n",
    "    cte = alpha*delta_t\n",
    "\n",
    "    # Número de passos no tempo\n",
    "    passos = int(tt/delta_t)\n",
    "    \n",
    "    # Número de nós\n",
    "    num_nos = int(L/dx) + 1\n",
    "    \n",
    "    # Iniciando a matriz com zeros\n",
    "    T = np.zeros((passos, num_nos))\n",
    "    \n",
    "    # Condições de contorno\n",
    "    T[:, num_nos-1] = 25\n",
    "    T[:, 0] = Tb\n",
    "\n",
    "    erro = 0\n",
    "    for l in range(0, passos-1):\n",
    "        lista = []\n",
    "        for i in range(1, num_nos-1):\n",
    "            T[l+1, i] = T[l, i] + (cte/(dx**2))*(T[l, i+1] - 2*T[l, i] + T[l, i-1]) - (cte*c*(T[l, i] - Tf))\n",
    "            \n",
    "            erro = (T[l+1, i] - T[l, i])/T[l+1, i]\n",
    "            \n",
    "            lista.append(erro)\n",
    "        \n",
    "        if (max(lista) < tol):\n",
    "            erro = max(lista)\n",
    "            ##break\n",
    "                \n",
    "    \n",
    "    T = np.array(T[passos-1, :])\n",
    "    x = np.linspace(0, L, num_nos)\n",
    "    \n",
    "    plt.plot(x, T)\n",
    "    plt.xlabel(\"Posição (cm)\")\n",
    "    plt.ylabel(\"Temperatura (ºC)\")\n",
    "    plt.title(\"Solução numérica\")\n",
    "    plt.grid()\n",
    "    plt.show()\n",
    "    \n",
    "    # Comportamento analítico\n",
    "    m = math.sqrt((h*perimetro)/(k*atr))\n",
    "    v = h/(m*k)\n",
    "    cosh_mL = math.cosh(m*L)\n",
    "    senh_mL = math.sinh(m*L)\n",
    "    \n",
    "    lista_pos = np.arange(0, L, 0.01)\n",
    "    lista_temp = []\n",
    "    for x in lista_pos:\n",
    "        res = (math.cosh(m*(L - x)) + v*math.sinh(m*(L - x)))/(cosh_mL + v*senh_mL)\n",
    "        t = res*Tb + Tf\n",
    "        lista_temp.append(t)\n",
    "    \n",
    "    plt.title(\"Solução analítica\")\n",
    "    plt.plot(lista_pos, lista_temp) \n",
    "    plt.xlabel(\"Posição (cm)\")\n",
    "    plt.ylabel(\"Temperatura (ºC)\")\n",
    "    plt.grid()\n",
    "    plt.show()\n",
    "    \n",
    "    return erro\n",
    "    \n",
    "    \n",
    "erro = CTA(2700, 896, 180, 50, 50, 100, 30/1000, 300/1000, 1e-2, 10)"
   ]
  },
  {
   "cell_type": "code",
   "execution_count": null,
   "id": "7ae74b52",
   "metadata": {},
   "outputs": [],
   "source": []
  }
 ],
 "metadata": {
  "kernelspec": {
   "display_name": "Python 3 (ipykernel)",
   "language": "python",
   "name": "python3"
  },
  "language_info": {
   "codemirror_mode": {
    "name": "ipython",
    "version": 3
   },
   "file_extension": ".py",
   "mimetype": "text/x-python",
   "name": "python",
   "nbconvert_exporter": "python",
   "pygments_lexer": "ipython3",
   "version": "3.10.2"
  }
 },
 "nbformat": 4,
 "nbformat_minor": 5
}
