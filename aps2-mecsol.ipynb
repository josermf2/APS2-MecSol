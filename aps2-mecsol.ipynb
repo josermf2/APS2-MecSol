{
 "cells": [
  {
   "cell_type": "markdown",
   "id": "1579d0b8",
   "metadata": {},
   "source": [
    "### Bibliotecas"
   ]
  },
  {
   "cell_type": "code",
   "execution_count": 15,
   "id": "bf1b3640",
   "metadata": {},
   "outputs": [],
   "source": [
    "import matplotlib.pyplot as plt\n",
    "import numpy as np\n",
    "import math"
   ]
  },
  {
   "cell_type": "markdown",
   "id": "817b849e",
   "metadata": {},
   "source": [
    "### Fórmula - Método das diferenças finitas"
   ]
  },
  {
   "cell_type": "code",
   "execution_count": null,
   "id": "9e42da13",
   "metadata": {},
   "outputs": [],
   "source": []
  },
  {
   "cell_type": "markdown",
   "id": "da03d066",
   "metadata": {},
   "source": [
    "### Função"
   ]
  },
  {
   "cell_type": "code",
   "execution_count": 32,
   "id": "eb8d1e65",
   "metadata": {},
   "outputs": [
    {
     "data": {
      "image/png": "[encoded data removed]",
      "text/plain": [
       "<Figure size 432x288 with 1 Axes>"
      ]
     },
     "metadata": {
      "needs_background": "light"
     },
     "output_type": "display_data"
    },
    {
     "name": "stdout",
     "output_type": "stream",
     "text": [
      "0.0049399573704287094\n"
     ]
    }
   ],
   "source": [
    "# parâmetros:\n",
    "\n",
    "# p - densidade do material\n",
    "# cp - calor específico\n",
    "# k - condutividade térmica\n",
    "# h - coeficiente de transferência por convecção\n",
    "# Tf - temperatura do fluido\n",
    "# Tb - temperatura da base\n",
    "# r - raio\n",
    "# L - comprimento\n",
    "# dx - delta X\n",
    "# tt - tempo total\n",
    "def CTA(p, cp, k, h, Tf, Tb, r, L, dx, tt):\n",
    "    perimetro = 2*math.pi*r\n",
    "    atr = math.pi*(r**2)\n",
    "    c = (h*perimetro)/(k*atr)\n",
    "    alpha = k/(p*cp)\n",
    "    \n",
    "    tol = 1*10e-10\n",
    "    \n",
    "    # Delta T\n",
    "    delta_t = (dx**2/(alpha*(c*dx**2)+2))*0.99\n",
    "    \n",
    "    # Constante\n",
    "    cte = alpha*delta_t\n",
    "    \n",
    "    # Número de passos no tempo\n",
    "    passos = int(tt/delta_t)\n",
    "    \n",
    "    # Número de nós\n",
    "    num_nos = int(L/dx) + 1\n",
    "    \n",
    "    # Iniciando a matriz com zeros\n",
    "    T = np.zeros((passos, num_nos))\n",
    "    \n",
    "    # Condições de contorno\n",
    "    T[:, L] = 25\n",
    "    T[:, 0] = Tb\n",
    "    erro = 0\n",
    "    for l in range(0, passos-1):\n",
    "        lista = []\n",
    "        for i in range(0, num_nos-1):\n",
    "            T[l+1, i] = T[l, i] + (cte/(dx**2))*(T[l, i+1] - 2*T[l, i] + T[l, i-1]) - (cte*c*(T[l, i] - Tf))\n",
    "            \n",
    "            erro = (T[l+1, i] - T[l, i])/T[l+1, i]\n",
    "            \n",
    "            lista.append(erro)\n",
    "        \n",
    "        if (max(lista) < tol):\n",
    "            erro = max(lista)\n",
    "            break\n",
    "                \n",
    "    \n",
    "    T = np.array(T[passos-1, :])\n",
    "    x = np.linspace(0, L, num_nos)\n",
    "    \n",
    "    plt.plot(x, T)\n",
    "    plt.xlabel(\"Posição (cm)\")\n",
    "    plt.ylabel(\"Temperatura (ºC)\")\n",
    "    plt.show()\n",
    "    \n",
    "    return erro\n",
    "    \n",
    "    \n",
    "erro = CTA(2700, 896, 180, 50, 50, 100, 5, 30, 1, 100)\n",
    "print(erro)"
   ]
  },
  {
   "cell_type": "code",
   "execution_count": null,
   "id": "f8a3f20c",
   "metadata": {},
   "outputs": [],
   "source": []
  },
  {
   "cell_type": "code",
   "execution_count": null,
   "id": "96c3de79",
   "metadata": {},
   "outputs": [],
   "source": []
  },
  {
   "cell_type": "code",
   "execution_count": null,
   "id": "cd954351",
   "metadata": {},
   "outputs": [],
   "source": []
  }
 ],
 "metadata": {
  "kernelspec": {
   "display_name": "Python 3 (ipykernel)",
   "language": "python",
   "name": "python3"
  },
  "language_info": {
   "codemirror_mode": {
    "name": "ipython",
    "version": 3
   },
   "file_extension": ".py",
   "mimetype": "text/x-python",
   "name": "python",
   "nbconvert_exporter": "python",
   "pygments_lexer": "ipython3",
   "version": "3.10.2"
  }
 },
 "nbformat": 4,
 "nbformat_minor": 5
}
