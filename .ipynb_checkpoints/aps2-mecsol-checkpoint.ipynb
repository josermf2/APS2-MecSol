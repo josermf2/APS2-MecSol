{
 "cells": [
  {
   "cell_type": "markdown",
   "id": "dd9c0be4",
   "metadata": {},
   "source": [
    "### Bibliotecas"
   ]
  },
  {
   "cell_type": "code",
   "execution_count": 6,
   "id": "84fab4da",
   "metadata": {},
   "outputs": [],
   "source": [
    "import matplotlib.pyplot as plt\n",
    "import numpy as np\n",
    "import math"
   ]
  },
  {
   "cell_type": "markdown",
   "id": "6e5d75d0",
   "metadata": {},
   "source": [
    "### Fórmula - Método das diferenças finitas"
   ]
  },
  {
   "cell_type": "code",
   "execution_count": null,
   "id": "1fed8028",
   "metadata": {},
   "outputs": [],
   "source": []
  },
  {
   "cell_type": "markdown",
   "id": "ce2c3837",
   "metadata": {},
   "source": [
    "### Função"
   ]
  },
  {
   "cell_type": "code",
   "execution_count": 7,
   "id": "5247b305",
   "metadata": {},
   "outputs": [
    {
     "ename": "UnboundLocalError",
     "evalue": "local variable 'delta_t' referenced before assignment",
     "output_type": "error",
     "traceback": [
      "\u001b[1;31m---------------------------------------------------------------------------\u001b[0m",
      "\u001b[1;31mUnboundLocalError\u001b[0m                         Traceback (most recent call last)",
      "Input \u001b[1;32mIn [7]\u001b[0m, in \u001b[0;36m<cell line: 49>\u001b[1;34m()\u001b[0m\n\u001b[0;32m     45\u001b[0m     plt\u001b[38;5;241m.\u001b[39mylabel(\u001b[38;5;124m\"\u001b[39m\u001b[38;5;124mTemperatura (ºC)\u001b[39m\u001b[38;5;124m\"\u001b[39m)\n\u001b[0;32m     46\u001b[0m     plt\u001b[38;5;241m.\u001b[39mshow()\n\u001b[1;32m---> 49\u001b[0m \u001b[43mCTA\u001b[49m\u001b[43m(\u001b[49m\u001b[38;5;241;43m2700\u001b[39;49m\u001b[43m,\u001b[49m\u001b[43m \u001b[49m\u001b[38;5;241;43m896\u001b[39;49m\u001b[43m,\u001b[49m\u001b[43m \u001b[49m\u001b[38;5;241;43m180\u001b[39;49m\u001b[43m,\u001b[49m\u001b[43m \u001b[49m\u001b[38;5;241;43m50\u001b[39;49m\u001b[43m,\u001b[49m\u001b[43m \u001b[49m\u001b[38;5;241;43m50\u001b[39;49m\u001b[43m,\u001b[49m\u001b[43m \u001b[49m\u001b[38;5;241;43m100\u001b[39;49m\u001b[43m,\u001b[49m\u001b[43m \u001b[49m\u001b[38;5;241;43m0.05\u001b[39;49m\u001b[43m,\u001b[49m\u001b[43m \u001b[49m\u001b[38;5;241;43m0.3\u001b[39;49m\u001b[43m,\u001b[49m\u001b[43m \u001b[49m\u001b[38;5;241;43m0.01\u001b[39;49m\u001b[43m,\u001b[49m\u001b[43m \u001b[49m\u001b[38;5;241;43m10\u001b[39;49m\u001b[43m)\u001b[49m\n",
      "Input \u001b[1;32mIn [7]\u001b[0m, in \u001b[0;36mCTA\u001b[1;34m(p, cp, k, h, Tf, Tb, r, L, dx, tt)\u001b[0m\n\u001b[0;32m     16\u001b[0m c \u001b[38;5;241m=\u001b[39m (h\u001b[38;5;241m*\u001b[39mperimetro)\u001b[38;5;241m/\u001b[39m(k\u001b[38;5;241m*\u001b[39matr)\n\u001b[0;32m     17\u001b[0m alpha \u001b[38;5;241m=\u001b[39m k\u001b[38;5;241m/\u001b[39m(p\u001b[38;5;241m*\u001b[39mcp)\n\u001b[1;32m---> 19\u001b[0m cte \u001b[38;5;241m=\u001b[39m alpha\u001b[38;5;241m*\u001b[39m\u001b[43mdelta_t\u001b[49m\n\u001b[0;32m     21\u001b[0m \u001b[38;5;66;03m# Delta T\u001b[39;00m\n\u001b[0;32m     22\u001b[0m delta_t \u001b[38;5;241m=\u001b[39m delta_x\u001b[38;5;241m*\u001b[39m\u001b[38;5;241m*\u001b[39m\u001b[38;5;241m2\u001b[39m\u001b[38;5;241m/\u001b[39m(alpha\u001b[38;5;241m*\u001b[39m(c\u001b[38;5;241m*\u001b[39mdelta_x\u001b[38;5;241m*\u001b[39m\u001b[38;5;241m*\u001b[39m\u001b[38;5;241m2\u001b[39m)\u001b[38;5;241m+\u001b[39m\u001b[38;5;241m2\u001b[39m)\n",
      "\u001b[1;31mUnboundLocalError\u001b[0m: local variable 'delta_t' referenced before assignment"
     ]
    }
   ],
   "source": [
    "# parâmetros:\n",
    "\n",
    "# p - densidade do material\n",
    "# cp - calor específico\n",
    "# k - condutividade térmica\n",
    "# h - coeficiente de transferência por convecção\n",
    "# Tf - temperatura do fluido\n",
    "# Tb - temperatura da base\n",
    "# r - raio\n",
    "# L - comprimento\n",
    "# dx - delta X\n",
    "# tt - tempo total\n",
    "def CTA(p, cp, k, h, Tf, Tb, r, L, dx, tt):\n",
    "    perimetro = 2*math.pi*r\n",
    "    atr = math.pi*(r**2)\n",
    "    c = (h*perimetro)/(k*atr)\n",
    "    alpha = k/(p*cp)\n",
    "    \n",
    "    # Delta T\n",
    "    delta_t = delta_x**2/(alpha*(c*delta_x**2)+2)\n",
    "    \n",
    "    # Constante\n",
    "    cte = alpha*delta_t\n",
    "    \n",
    "    # Número de passos no tempo\n",
    "    passos = tt/delta_t\n",
    "    \n",
    "    # Número de nós\n",
    "    num_nos = int(comprimento/delta_x) + 1\n",
    "    \n",
    "    # Iniciando a matriz com zeros\n",
    "    T = np.zeros((passos, num_nos))\n",
    "    \n",
    "    # Condições de contorno\n",
    "    T[:, comprimento] = 25\n",
    "    T[:, 0] = Tb\n",
    "    \n",
    "    for l in range(0, passos-1):\n",
    "        for i in range(0, num_nos-1):\n",
    "            T[l+1, i] = T[l, i] + (cte/(delta_x**2))*(T[l, i+1] - 2*T[l, i] + T[l, i-1]) - cte*c*(T[l, i] - Tf)\n",
    "            \n",
    "    x = np.linspace(0, comprimento, num_nos)\n",
    "    \n",
    "    plt.plot(x, T)\n",
    "    plt.xlabel(\"Posição (m)\")\n",
    "    plt.ylabel(\"Temperatura (ºC)\")\n",
    "    plt.show()\n",
    "    \n",
    "    \n",
    "CTA(2700, 896, 180, 50, 50, 100, 0.05, 0.3, 0.01, 10)"
   ]
  },
  {
   "cell_type": "code",
   "execution_count": null,
   "id": "6cac3a2c",
   "metadata": {},
   "outputs": [],
   "source": []
  }
 ],
 "metadata": {
  "kernelspec": {
   "display_name": "Python 3 (ipykernel)",
   "language": "python",
   "name": "python3"
  },
  "language_info": {
   "codemirror_mode": {
    "name": "ipython",
    "version": 3
   },
   "file_extension": ".py",
   "mimetype": "text/x-python",
   "name": "python",
   "nbconvert_exporter": "python",
   "pygments_lexer": "ipython3",
   "version": "3.10.2"
  }
 },
 "nbformat": 4,
 "nbformat_minor": 5
}
